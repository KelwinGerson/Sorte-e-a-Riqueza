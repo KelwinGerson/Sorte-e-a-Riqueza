{
  "nbformat": 4,
  "nbformat_minor": 0,
  "metadata": {
    "colab": {
      "name": "Sorte x Inteligência x Riqueza.ipynb",
      "provenance": [],
      "collapsed_sections": []
    },
    "kernelspec": {
      "name": "python3",
      "display_name": "Python 3"
    },
    "language_info": {
      "name": "python"
    }
  },
  "cells": [
    {
      "cell_type": "code",
      "metadata": {
        "id": "gtMDtx5xUhaD"
      },
      "source": [
        "import numpy as np\n",
        "import matplotlib.pyplot as plt\n"
      ],
      "execution_count": 1,
      "outputs": []
    },
    {
      "cell_type": "code",
      "metadata": {
        "id": "fEs0jT8JUpX1"
      },
      "source": [
        "np.random.seed(5)\n",
        "num_simulacoes = 100\n",
        "num_interacoes = 80\n",
        "num_individuos = 1000\n",
        "capital_inicial = 10\n",
        "binwidth = 20\n",
        "rangemax = 10000\n",
        "numbins = int(rangemax/binwidth)\n",
        "binwidth = rangemax/numbins"
      ],
      "execution_count": 2,
      "outputs": []
    },
    {
      "cell_type": "code",
      "metadata": {
        "id": "Om8aPT_nVBWX"
      },
      "source": [
        "capital = np.zeros([num_individuos])\n",
        "capital_hist = np.zeros(numbins)\n",
        "binedge = np.zeros(numbins + 1)\n",
        "\n",
        "for i in range(num_interacoes):\n",
        "  capital.fill(capital_inicial)\n",
        "  talento = np.random.normal(0.6, 0.1, num_individuos)\n",
        "\n",
        "  for i in range(num_interacoes):\n",
        "\n",
        "    for i, individuo in enumerate(capital):\n",
        "      evento = np.random.rand()\n",
        "      #evento ruim\n",
        "      if evento < 0.05:\n",
        "        capital[i] /= 2\n",
        "      elif evento < 0.10:\n",
        "        if evento < talento[i]:\n",
        "          capital[i] *= 2\n",
        "  hist, binedge_ = np.histogram(capital, bins= numbins, range = (0, rangemax))\n",
        "  binedge += binedge_\n",
        "  capital_hist += hist \n",
        "\n",
        "capital_hist /= num_simulacoes\n",
        "binedge /= num_simulacoes"
      ],
      "execution_count": 3,
      "outputs": []
    },
    {
      "cell_type": "code",
      "metadata": {
        "colab": {
          "base_uri": "https://localhost:8080/",
          "height": 329
        },
        "id": "K8wp19kzWPAJ",
        "outputId": "b618b322-6bf6-4419-a287-5b703e36673b"
      },
      "source": [
        "x = np.linspace(0, np.amax(binedge), numbins)\n",
        "plt.plot(np.log(x),np.log(capital_hist), 'ro')\n",
        "plt.title(\"Log Scale\")\n",
        "plt.xlabel(\"Capital\")\n",
        "plt.ylabel(\"Número de indivíduos\")\n",
        "plt.show()"
      ],
      "execution_count": 5,
      "outputs": [
        {
          "output_type": "stream",
          "text": [
            "/usr/local/lib/python3.7/dist-packages/ipykernel_launcher.py:2: RuntimeWarning: divide by zero encountered in log\n",
            "  \n"
          ],
          "name": "stderr"
        },
        {
          "output_type": "display_data",
          "data": {
            "image/png": "[encoded data removed]",
            "text/plain": [
              "<Figure size 432x288 with 1 Axes>"
            ]
          },
          "metadata": {
            "tags": [],
            "needs_background": "light"
          }
        }
      ]
    },
    {
      "cell_type": "code",
      "metadata": {
        "colab": {
          "base_uri": "https://localhost:8080/",
          "height": 279
        },
        "id": "0KM2oW2VWvJO",
        "outputId": "81b742f8-829a-4cc3-dbea-624536a34ffe"
      },
      "source": [
        "#Gráfico mostra a discrepancia dos valores após vários eventos\n",
        "x = np.linspace(0, rangemax, numbins)\n",
        "plt.bar(x, capital_hist, width = binwidth)\n",
        "plt.xlim(0, 1500)\n",
        "plt.xlabel(\"Capital\")\n",
        "plt.ylabel(\"Número de indivíduos\")\n",
        "plt.show()"
      ],
      "execution_count": 6,
      "outputs": [
        {
          "output_type": "display_data",
          "data": {
            "image/png": "[encoded data removed]",
            "text/plain": [
              "<Figure size 432x288 with 1 Axes>"
            ]
          },
          "metadata": {
            "tags": [],
            "needs_background": "light"
          }
        }
      ]
    },
    {
      "cell_type": "code",
      "metadata": {
        "id": "xLzlBEFJchRp"
      },
      "source": [
        "import pandas as pd"
      ],
      "execution_count": 8,
      "outputs": []
    },
    {
      "cell_type": "code",
      "metadata": {
        "id": "uMr5XesNbVib"
      },
      "source": [
        "pessoas_mais_ricas = pd.read_csv('/content/drive/MyDrive/Colab Notebooks/Data/500 richest people 2021.csv', sep=';', usecols=['Rank','Name','Total Net Worth','Country','Industry'])"
      ],
      "execution_count": 30,
      "outputs": []
    },
    {
      "cell_type": "code",
      "metadata": {
        "colab": {
          "base_uri": "https://localhost:8080/",
          "height": 419
        },
        "id": "nch4cB64cnQ3",
        "outputId": "f3d7b173-184f-4f4d-ec1f-789ee736ace7"
      },
      "source": [
        "pessoas_mais_ricas\n",
        "                      "
      ],
      "execution_count": 37,
      "outputs": [
        {
          "output_type": "execute_result",
          "data": {
            "text/html": [
              "<div>\n",
              "<style scoped>\n",
              "    .dataframe tbody tr th:only-of-type {\n",
              "        vertical-align: middle;\n",
              "    }\n",
              "\n",
              "    .dataframe tbody tr th {\n",
              "        vertical-align: top;\n",
              "    }\n",
              "\n",
              "    .dataframe thead th {\n",
              "        text-align: right;\n",
              "    }\n",
              "</style>\n",
              "<table border=\"1\" class=\"dataframe\">\n",
              "  <thead>\n",
              "    <tr style=\"text-align: right;\">\n",
              "      <th></th>\n",
              "      <th>Rank</th>\n",
              "      <th>Name</th>\n",
              "      <th>Total Net Worth</th>\n",
              "      <th>Country</th>\n",
              "      <th>Industry</th>\n",
              "    </tr>\n",
              "  </thead>\n",
              "  <tbody>\n",
              "    <tr>\n",
              "      <th>0</th>\n",
              "      <td>1.0</td>\n",
              "      <td>Jeff Bezos</td>\n",
              "      <td>$188B</td>\n",
              "      <td>United States</td>\n",
              "      <td>Technology</td>\n",
              "    </tr>\n",
              "    <tr>\n",
              "      <th>1</th>\n",
              "      <td>2.0</td>\n",
              "      <td>Elon Musk</td>\n",
              "      <td>$170B</td>\n",
              "      <td>United States</td>\n",
              "      <td>Technology</td>\n",
              "    </tr>\n",
              "    <tr>\n",
              "      <th>2</th>\n",
              "      <td>3.0</td>\n",
              "      <td>Bernard Arnault</td>\n",
              "      <td>$155B</td>\n",
              "      <td>France</td>\n",
              "      <td>Consumer</td>\n",
              "    </tr>\n",
              "    <tr>\n",
              "      <th>3</th>\n",
              "      <td>4.0</td>\n",
              "      <td>Bill Gates</td>\n",
              "      <td>$144B</td>\n",
              "      <td>United States</td>\n",
              "      <td>Technology</td>\n",
              "    </tr>\n",
              "    <tr>\n",
              "      <th>4</th>\n",
              "      <td>5.0</td>\n",
              "      <td>Mark Zuckerberg</td>\n",
              "      <td>$114B</td>\n",
              "      <td>United States</td>\n",
              "      <td>Technology</td>\n",
              "    </tr>\n",
              "    <tr>\n",
              "      <th>...</th>\n",
              "      <td>...</td>\n",
              "      <td>...</td>\n",
              "      <td>...</td>\n",
              "      <td>...</td>\n",
              "      <td>...</td>\n",
              "    </tr>\n",
              "    <tr>\n",
              "      <th>498</th>\n",
              "      <td>500.0</td>\n",
              "      <td>Odd Reitan</td>\n",
              "      <td>$5.72B</td>\n",
              "      <td>Norway</td>\n",
              "      <td>Food &amp; Beverage</td>\n",
              "    </tr>\n",
              "    <tr>\n",
              "      <th>499</th>\n",
              "      <td>NaN</td>\n",
              "      <td>NaN</td>\n",
              "      <td>NaN</td>\n",
              "      <td>NaN</td>\n",
              "      <td>NaN</td>\n",
              "    </tr>\n",
              "    <tr>\n",
              "      <th>500</th>\n",
              "      <td>NaN</td>\n",
              "      <td>NaN</td>\n",
              "      <td>NaN</td>\n",
              "      <td>NaN</td>\n",
              "      <td>NaN</td>\n",
              "    </tr>\n",
              "    <tr>\n",
              "      <th>501</th>\n",
              "      <td>NaN</td>\n",
              "      <td>NaN</td>\n",
              "      <td>NaN</td>\n",
              "      <td>NaN</td>\n",
              "      <td>NaN</td>\n",
              "    </tr>\n",
              "    <tr>\n",
              "      <th>502</th>\n",
              "      <td>NaN</td>\n",
              "      <td>NaN</td>\n",
              "      <td>NaN</td>\n",
              "      <td>NaN</td>\n",
              "      <td>NaN</td>\n",
              "    </tr>\n",
              "  </tbody>\n",
              "</table>\n",
              "<p>503 rows × 5 columns</p>\n",
              "</div>"
            ],
            "text/plain": [
              "      Rank             Name Total Net Worth        Country         Industry\n",
              "0      1.0       Jeff Bezos           $188B  United States       Technology\n",
              "1      2.0        Elon Musk           $170B  United States       Technology\n",
              "2      3.0  Bernard Arnault           $155B         France         Consumer\n",
              "3      4.0       Bill Gates           $144B  United States       Technology\n",
              "4      5.0  Mark Zuckerberg           $114B  United States       Technology\n",
              "..     ...              ...             ...            ...              ...\n",
              "498  500.0       Odd Reitan          $5.72B         Norway  Food & Beverage\n",
              "499    NaN              NaN             NaN            NaN              NaN\n",
              "500    NaN              NaN             NaN            NaN              NaN\n",
              "501    NaN              NaN             NaN            NaN              NaN\n",
              "502    NaN              NaN             NaN            NaN              NaN\n",
              "\n",
              "[503 rows x 5 columns]"
            ]
          },
          "metadata": {
            "tags": []
          },
          "execution_count": 37
        }
      ]
    },
    {
      "cell_type": "code",
      "metadata": {
        "id": "TwZ_n-U2hOB5"
      },
      "source": [
        "riquezaeua = pessoas_mais_ricas.loc[pessoas_mais_ricas['Country']=='United States']"
      ],
      "execution_count": 56,
      "outputs": []
    },
    {
      "cell_type": "code",
      "metadata": {
        "id": "DXc4qMX_lYkh"
      },
      "source": [
        "riquezaeua = pessoas_mais_ricas.loc[pessoas_mais_ricas['Country']=='United States']"
      ],
      "execution_count": 59,
      "outputs": []
    },
    {
      "cell_type": "code",
      "metadata": {
        "colab": {
          "base_uri": "https://localhost:8080/",
          "height": 359
        },
        "id": "VKML6mt8lgz-",
        "outputId": "a7d09e01-7e73-42f4-a76f-711dba033a86"
      },
      "source": [
        "riquezaeua.head(10)"
      ],
      "execution_count": 62,
      "outputs": [
        {
          "output_type": "execute_result",
          "data": {
            "text/html": [
              "<div>\n",
              "<style scoped>\n",
              "    .dataframe tbody tr th:only-of-type {\n",
              "        vertical-align: middle;\n",
              "    }\n",
              "\n",
              "    .dataframe tbody tr th {\n",
              "        vertical-align: top;\n",
              "    }\n",
              "\n",
              "    .dataframe thead th {\n",
              "        text-align: right;\n",
              "    }\n",
              "</style>\n",
              "<table border=\"1\" class=\"dataframe\">\n",
              "  <thead>\n",
              "    <tr style=\"text-align: right;\">\n",
              "      <th></th>\n",
              "      <th>Rank</th>\n",
              "      <th>Name</th>\n",
              "      <th>Total Net Worth</th>\n",
              "      <th>Country</th>\n",
              "      <th>Industry</th>\n",
              "    </tr>\n",
              "  </thead>\n",
              "  <tbody>\n",
              "    <tr>\n",
              "      <th>0</th>\n",
              "      <td>1.0</td>\n",
              "      <td>Jeff Bezos</td>\n",
              "      <td>$188B</td>\n",
              "      <td>United States</td>\n",
              "      <td>Technology</td>\n",
              "    </tr>\n",
              "    <tr>\n",
              "      <th>1</th>\n",
              "      <td>2.0</td>\n",
              "      <td>Elon Musk</td>\n",
              "      <td>$170B</td>\n",
              "      <td>United States</td>\n",
              "      <td>Technology</td>\n",
              "    </tr>\n",
              "    <tr>\n",
              "      <th>3</th>\n",
              "      <td>4.0</td>\n",
              "      <td>Bill Gates</td>\n",
              "      <td>$144B</td>\n",
              "      <td>United States</td>\n",
              "      <td>Technology</td>\n",
              "    </tr>\n",
              "    <tr>\n",
              "      <th>4</th>\n",
              "      <td>5.0</td>\n",
              "      <td>Mark Zuckerberg</td>\n",
              "      <td>$114B</td>\n",
              "      <td>United States</td>\n",
              "      <td>Technology</td>\n",
              "    </tr>\n",
              "    <tr>\n",
              "      <th>5</th>\n",
              "      <td>6.0</td>\n",
              "      <td>Warren Buffett</td>\n",
              "      <td>$108B</td>\n",
              "      <td>United States</td>\n",
              "      <td>Diversified</td>\n",
              "    </tr>\n",
              "    <tr>\n",
              "      <th>6</th>\n",
              "      <td>7.0</td>\n",
              "      <td>Larry Page</td>\n",
              "      <td>$104B</td>\n",
              "      <td>United States</td>\n",
              "      <td>Technology</td>\n",
              "    </tr>\n",
              "    <tr>\n",
              "      <th>7</th>\n",
              "      <td>8.0</td>\n",
              "      <td>Sergey Brin</td>\n",
              "      <td>$101B</td>\n",
              "      <td>United States</td>\n",
              "      <td>Technology</td>\n",
              "    </tr>\n",
              "    <tr>\n",
              "      <th>8</th>\n",
              "      <td>9.0</td>\n",
              "      <td>Larry Ellison</td>\n",
              "      <td>$90.6B</td>\n",
              "      <td>United States</td>\n",
              "      <td>Technology</td>\n",
              "    </tr>\n",
              "    <tr>\n",
              "      <th>9</th>\n",
              "      <td>10.0</td>\n",
              "      <td>Steve Ballmer</td>\n",
              "      <td>$89.1B</td>\n",
              "      <td>United States</td>\n",
              "      <td>Technology</td>\n",
              "    </tr>\n",
              "    <tr>\n",
              "      <th>13</th>\n",
              "      <td>14.0</td>\n",
              "      <td>Charles Koch</td>\n",
              "      <td>$64.3B</td>\n",
              "      <td>United States</td>\n",
              "      <td>Industrial</td>\n",
              "    </tr>\n",
              "  </tbody>\n",
              "</table>\n",
              "</div>"
            ],
            "text/plain": [
              "    Rank             Name Total Net Worth        Country     Industry\n",
              "0    1.0       Jeff Bezos           $188B  United States   Technology\n",
              "1    2.0        Elon Musk           $170B  United States   Technology\n",
              "3    4.0       Bill Gates           $144B  United States   Technology\n",
              "4    5.0  Mark Zuckerberg           $114B  United States   Technology\n",
              "5    6.0   Warren Buffett           $108B  United States  Diversified\n",
              "6    7.0       Larry Page           $104B  United States   Technology\n",
              "7    8.0      Sergey Brin           $101B  United States   Technology\n",
              "8    9.0    Larry Ellison          $90.6B  United States   Technology\n",
              "9   10.0    Steve Ballmer          $89.1B  United States   Technology\n",
              "13  14.0     Charles Koch          $64.3B  United States   Industrial"
            ]
          },
          "metadata": {
            "tags": []
          },
          "execution_count": 62
        }
      ]
    },
    {
      "cell_type": "code",
      "metadata": {
        "colab": {
          "base_uri": "https://localhost:8080/"
        },
        "id": "2uhu3Hbjlics",
        "outputId": "03f371b8-48c2-4756-882f-d9f32032e118"
      },
      "source": [
        "118+170+144+114+108+104+101+90.6+89.1+64.3"
      ],
      "execution_count": 65,
      "outputs": [
        {
          "output_type": "execute_result",
          "data": {
            "text/plain": [
              "1103.0"
            ]
          },
          "metadata": {
            "tags": []
          },
          "execution_count": 65
        }
      ]
    },
    {
      "cell_type": "code",
      "metadata": {
        "id": "YiOeozcms_Qn"
      },
      "source": [
        "# 8 destes trabalham na indrustria tecnológica "
      ],
      "execution_count": 65,
      "outputs": []
    }
  ]
}